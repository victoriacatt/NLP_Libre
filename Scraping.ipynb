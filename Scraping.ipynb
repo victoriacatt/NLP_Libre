{
 "cells": [
  {
   "cell_type": "markdown",
   "metadata": {},
   "source": [
    "#### Librerias"
   ]
  },
  {
   "cell_type": "code",
   "execution_count": 1,
   "metadata": {},
   "outputs": [],
   "source": [
    "from selenium import webdriver\n",
    "from selenium.webdriver.common.by import By\n",
    "from selenium.webdriver.common.keys import Keys\n",
    "from selenium.common.exceptions import NoSuchElementException, ElementClickInterceptedException\n",
    "from selenium.webdriver.support.ui import WebDriverWait\n",
    "from selenium.webdriver.support import expected_conditions as EC\n",
    "from selenium.common.exceptions import TimeoutException\n",
    "from time import sleep\n",
    "import csv"
   ]
  },
  {
   "cell_type": "markdown",
   "metadata": {},
   "source": [
    "#### Mostramos la cantidad de comentarios que hay en la pagina principal"
   ]
  },
  {
   "cell_type": "code",
   "execution_count": 2,
   "metadata": {},
   "outputs": [
    {
     "name": "stdout",
     "output_type": "stream",
     "text": [
      "Se encontraron 15 artículos de reseña.\n"
     ]
    }
   ],
   "source": [
    "# Inicia el WebDriver\n",
    "driver = webdriver.Chrome()\n",
    "\n",
    "url = 'https://www.mercadolibre.com.ar/noindex/catalog/reviews/MLA18955016?noIndex=true&access=view_all&modal=true&controlled=true'\n",
    "driver.get(url)\n",
    "\n",
    "try:\n",
    "    review_articles = driver.find_elements(By.CSS_SELECTOR, 'article[aria-roledescription=\"Review\"]') #article[aria-roledescription=\"Review\"], p[role=\"presentation\"]\n",
    "    \n",
    "    # Verificá cuántos artículos se encontraron\n",
    "    print(f\"Se encontraron {len(review_articles)} artículos de reseña.\")\n",
    "    \n",
    "except Exception as e:\n",
    "    print(f\"No se pudieron encontrar artículos de reseñas: {e}\")\n",
    "    driver.quit()\n",
    "    exit()"
   ]
  },
  {
   "cell_type": "markdown",
   "metadata": {},
   "source": [
    "#### Mostramos la cantidad de comentarios que hay en la pagina principal haciendo Scroll"
   ]
  },
  {
   "cell_type": "code",
   "execution_count": 3,
   "metadata": {},
   "outputs": [
    {
     "name": "stdout",
     "output_type": "stream",
     "text": [
      "Total de reseñas encontradas: 15\n",
      "Total de reseñas encontradas: 30\n",
      "Total de reseñas encontradas: 45\n",
      "Total de reseñas encontradas: 60\n",
      "Total de reseñas encontradas: 75\n",
      "Total de reseñas encontradas: 90\n",
      "Total de reseñas encontradas: 105\n",
      "Total de reseñas encontradas: 120\n",
      "Total de reseñas encontradas: 135\n",
      "Total de reseñas encontradas: 150\n",
      "Total de reseñas encontradas: 165\n",
      "Total de reseñas encontradas: 180\n",
      "Total de reseñas encontradas: 195\n",
      "Total de reseñas encontradas: 210\n",
      "Total final de reseñas: 210\n"
     ]
    },
    {
     "ename": "",
     "evalue": "",
     "output_type": "error",
     "traceback": [
      "\u001b[1;31mEl kernel se bloqueó al ejecutar código en la celda actual o en una celda anterior. \n",
      "\u001b[1;31mRevise el código de las celdas para identificar una posible causa del error. \n",
      "\u001b[1;31mHaga clic <a href='https://aka.ms/vscodeJupyterKernelCrash'>aquí</a> para obtener más información. \n",
      "\u001b[1;31mVea Jupyter <a href='command:jupyter.viewOutput'>log</a> para obtener más detalles."
     ]
    }
   ],
   "source": [
    "# Inicia el WebDriver\n",
    "driver = webdriver.Chrome()\n",
    "\n",
    "url = 'https://www.mercadolibre.com.ar/noindex/catalog/reviews/MLA18955016?noIndex=true&access=view_all&modal=true&controlled=true'\n",
    "driver.get(url)\n",
    "\n",
    "\n",
    "sleep(5) \n",
    "\n",
    "# Número total de reseñas\n",
    "total_reviews = 0\n",
    "last_height = driver.execute_script(\"return document.body.scrollHeight\")\n",
    "\n",
    "while True:\n",
    "    # Busca los comentarios\n",
    "    review_articles = driver.find_elements(By.CSS_SELECTOR, 'article[aria-roledescription=\"Review\"]')\n",
    "    total_reviews = len(review_articles)\n",
    "    print(f\"Total de reseñas encontradas: {total_reviews}\")\n",
    "\n",
    "    # Hace el scroll en la web\n",
    "    driver.execute_script(\"window.scrollTo(0, document.body.scrollHeight);\")\n",
    "\n",
    "    sleep(2)\n",
    "\n",
    "    # Verificá si llego al final de la pagina\n",
    "    new_height = driver.execute_script(\"return document.body.scrollHeight\")\n",
    "    if new_height == last_height:\n",
    "        break\n",
    "    last_height = new_height\n",
    "\n",
    "print(f\"Total final de reseñas: {total_reviews}\")\n",
    "driver.quit()\n",
    "exit()\n"
   ]
  },
  {
   "cell_type": "markdown",
   "metadata": {},
   "source": [
    "## Desarrolló\n",
    "Logramos ver que los comentarios que aparecian en la pagina principal no eran absolutamente todos, así que decidimos hacer un scraping por la categoria de comentarios, es decir, un scraping que comience por la categoria de 5 estrellas hasta la categoria de 1 una estrella, por eso comenzaremos con la interacción del botón de catacteristicas"
   ]
  },
  {
   "cell_type": "markdown",
   "metadata": {},
   "source": [
    "#### Comenzamos la interacción con el botón \"Calificaciones\""
   ]
  },
  {
   "cell_type": "code",
   "execution_count": 4,
   "metadata": {},
   "outputs": [
    {
     "name": "stdout",
     "output_type": "stream",
     "text": [
      "Botón de 'Mostrar más comentarios' fue clickeado correctamente.\n"
     ]
    },
    {
     "ename": "",
     "evalue": "",
     "output_type": "error",
     "traceback": [
      "\u001b[1;31mEl kernel se bloqueó al ejecutar código en la celda actual o en una celda anterior. \n",
      "\u001b[1;31mRevise el código de las celdas para identificar una posible causa del error. \n",
      "\u001b[1;31mHaga clic <a href='https://aka.ms/vscodeJupyterKernelCrash'>aquí</a> para obtener más información. \n",
      "\u001b[1;31mVea Jupyter <a href='command:jupyter.viewOutput'>log</a> para obtener más detalles."
     ]
    }
   ],
   "source": [
    "# # Inicia el WebDriver\n",
    "# driver = webdriver.Chrome()\n",
    "\n",
    "# url = 'https://www.mercadolibre.com.ar/noindex/catalog/reviews/MLA18955016?noIndex=true&access=view_all&modal=true&controlled=true'\n",
    "# driver.get(url)\n",
    "\n",
    "# # busca el boton de calificaciones y hace clik\n",
    "# try:\n",
    "#     mostrar_mas_button = driver.find_element(By.XPATH, '//button[@id=\":R1inbh:\"]') #//button[@data-testid='see-more']    \n",
    "#     mostrar_mas_button.click()\n",
    "#     print(\"Botón de 'Mostrar más comentarios' fue clickeado correctamente.\")\n",
    "    \n",
    "#     (5)\n",
    "    \n",
    "# except Exception as e:\n",
    "#     print(f\"No se pudo hacer clic en el botón: {e}\")\n",
    "#     driver.quit()\n",
    "#     exit()\n"
   ]
  },
  {
   "cell_type": "code",
   "execution_count": 12,
   "metadata": {},
   "outputs": [
    {
     "name": "stdout",
     "output_type": "stream",
     "text": [
      "Total de reseñas con 5 estrella(s): 15\n",
      "Total de reseñas con 4 estrella(s): 15\n",
      "Total de reseñas con 3 estrella(s): 15\n",
      "Total de reseñas con 2 estrella(s): 15\n",
      "Total de reseñas con 1 estrella(s): 15\n"
     ]
    }
   ],
   "source": [
    "# Inicializar el WebDriver\n",
    "driver = webdriver.Chrome()\n",
    "\n",
    "# Navegar a la página de producto en Mercado Libre\n",
    "url = 'https://www.mercadolibre.com.ar/noindex/catalog/reviews/MLA18955016?noIndex=true&access=view_all&modal=true&controlled=true'\n",
    "driver.get(url)\n",
    "\n",
    "sleep(10)\n",
    "\n",
    "# Definir las categorías de calificación\n",
    "ratings = ['5', '4', '3', '2', '1']\n",
    "\n",
    "# Recorrer cada calificación\n",
    "for rating in ratings:\n",
    "    while True:  # Bucle que intentará seleccionar la calificación\n",
    "        # Hacer clic en el botón de calificación\n",
    "        rating_button = driver.find_element(By.XPATH, '//button[@id=\":R1inbh:\"]')\n",
    "        rating_button.click()\n",
    "        sleep(5)\n",
    "\n",
    "        # Esperar a que la opción de calificación esté presente y sea visible\n",
    "        try:\n",
    "            rating_option = WebDriverWait(driver, 10).until(\n",
    "                EC.visibility_of_element_located((By.XPATH, f'//li[@data-testid=\"filterItem-rating-{rating}\"]'))\n",
    "            )\n",
    "            rating_option.click()\n",
    "            sleep(10)  # Esperar a que carguen los comentarios\n",
    "\n",
    "            # Contar los comentarios\n",
    "            review_articles = driver.find_elements(By.CSS_SELECTOR, 'article[aria-roledescription=\"Review\"]')\n",
    "            total_reviews = len(review_articles)\n",
    "            print(f\"Total de reseñas con {rating} estrella(s): {total_reviews}\")\n",
    "\n",
    "            break  # Salir del bucle si la calificación se encuentra\n",
    "\n",
    "        except TimeoutException:\n",
    "            print(f\"No se pudo encontrar la opción de {rating} estrella(s).\")\n",
    "            break  # Salir del bucle si la opción no está disponible\n",
    "\n",
    "# Cerrar el navegador\n",
    "driver.quit()\n"
   ]
  },
  {
   "cell_type": "code",
   "execution_count": 17,
   "metadata": {},
   "outputs": [],
   "source": [
    "# # Inicializar el WebDriver\n",
    "# driver = webdriver.Chrome()\n",
    "\n",
    "# # Navegar a la página de producto en Mercado Libre\n",
    "# url = 'https://www.mercadolibre.com.ar/noindex/catalog/reviews/MLA18955016?noIndex=true&access=view_all&modal=true&controlled=true'\n",
    "# driver.get(url)\n",
    "\n",
    "# sleep(5)\n",
    "\n",
    "# # Definir las categorías de calificación\n",
    "# ratings = ['1', '2', '3', '4', '5']\n",
    "\n",
    "# # Recorrer cada calificación\n",
    "# for rating in ratings:\n",
    "#     # Hacer clic en el botón de calificación\n",
    "#     rating_button = driver.find_element(By.XPATH, f'//button[@id=\":R1inbh:\"]')\n",
    "#     rating_button.click()\n",
    "#     sleep(7)\n",
    "\n",
    "#     # Seleccionar la calificación deseada\n",
    "#     rating_option = driver.find_element(By.XPATH, f'//li[@data-testid=\"filterItem-rating-{rating}\"]')\n",
    "#     rating_option.click()\n",
    "#     sleep(7)  # Esperar a que carguen los comentarios\n",
    "\n",
    "#     # Contar los comentarios\n",
    "#     review_articles = driver.find_elements(By.CSS_SELECTOR, 'article[aria-roledescription=\"Review\"]')\n",
    "#     total_reviews = len(review_articles)\n",
    "#     print(f\"Total de reseñas con {rating} estrella(s): {total_reviews}\")\n",
    "\n",
    "#     # Volver a abrir el menú de calificación para seleccionar otra calificación\n",
    "#     rating_button.click()\n",
    "#     sleep(7)\n",
    "\n",
    "# # Cerrar el navegador\n",
    "# driver.quit()\n"
   ]
  },
  {
   "cell_type": "code",
   "execution_count": 13,
   "metadata": {},
   "outputs": [],
   "source": [
    "# # Inicializar el WebDriver\n",
    "# driver = webdriver.Chrome()\n",
    "\n",
    "# # Navegar a la página de producto en Mercado Libre\n",
    "# url = 'https://www.mercadolibre.com.ar/noindex/catalog/reviews/MLA18955016?noIndex=true&access=view_all&modal=true&controlled=true'\n",
    "# driver.get(url)\n",
    "\n",
    "# sleep(5)\n",
    "\n",
    "# # # Definir las categorías de calificación\n",
    "# # ratings = ['1', '2', '3', '4', '5']\n",
    "\n",
    "# # Recorrer cada calificación\n",
    "# # for rating in ratings:\n",
    "\n",
    "# # Hacer clic en el botón de calificación\n",
    "# rating_button = driver.find_element(By.XPATH, '//button[@id=\":R1inbh:\"]')\n",
    "# rating_button.click()\n",
    "# sleep(2)\n",
    "\n",
    "# # Esperar a que la opción de calificación esté presente y sea visible\n",
    "# try:\n",
    "#     rating_option = WebDriverWait(driver, 10).until(\n",
    "#         EC.visibility_of_element_located((By.XPATH, '//li[@data-testid=\"filterItem-rating-2\"]'))\n",
    "#     )\n",
    "#     rating_option.click()\n",
    "#     sleep(5)  # Esperar a que carguen los comentarios\n",
    "\n",
    "#     # Contar los comentarios\n",
    "#     review_articles = driver.find_elements(By.CSS_SELECTOR, 'article[aria-roledescription=\"Review\"]')\n",
    "#     total_reviews = len(review_articles)\n",
    "#     print(f\"Total de reseñas con {rating} estrella(s): {total_reviews}\")\n",
    "\n",
    "#     # # Volver a abrir el menú de calificación para seleccionar otra calificación\n",
    "#     # rating_button.click()\n",
    "#     # sleep(2)\n",
    "\n",
    "# except TimeoutException:\n",
    "#     print(f\"No se pudo encontrar la opción de  estrella(s).\")\n",
    "\n",
    "# # Cerrar el navegador\n",
    "# driver.quit()\n"
   ]
  },
  {
   "cell_type": "code",
   "execution_count": 14,
   "metadata": {},
   "outputs": [],
   "source": [
    "# # Inicializar el WebDriver\n",
    "# driver = webdriver.Chrome()\n",
    "\n",
    "# # Navegar a la página de producto en Mercado Libre\n",
    "# url = 'https://www.mercadolibre.com.ar/noindex/catalog/reviews/MLA18955016?noIndex=true&access=view_all&modal=true&controlled=true'\n",
    "# driver.get(url)\n",
    "\n",
    "# sleep(10)\n",
    "\n",
    "# # Definir las categorías de calificación ['5', '4', '3', '2', '1']\n",
    "# ratings = ['5', '5','4','4','3','3', '2','2', '1', '1']\n",
    "\n",
    "# # Recorrer cada calificación\n",
    "# for rating in ratings:\n",
    "#     # Hacer clic en el botón de calificación\n",
    "#     rating_button = driver.find_element(By.XPATH, '//button[@id=\":R1inbh:\"]')\n",
    "#     rating_button.click()\n",
    "#     sleep(5)\n",
    "\n",
    "#     # Esperar a que la opción de calificación esté presente y sea visible\n",
    "#     try:\n",
    "#         rating_option = WebDriverWait(driver, 10).until(\n",
    "#             EC.visibility_of_element_located((By.XPATH, f'//li[@data-testid=\"filterItem-rating-{rating}\"]'))\n",
    "#         )\n",
    "#         rating_option.click()\n",
    "#         sleep(10)  # Esperar a que carguen los comentarios\n",
    "\n",
    "#         # Contar los comentarios\n",
    "#         review_articles = driver.find_elements(By.CSS_SELECTOR, 'article[aria-roledescription=\"Review\"]')\n",
    "#         total_reviews = len(review_articles)\n",
    "#         print(f\"Total de reseñas con {rating} estrella(s): {total_reviews}\")\n",
    "\n",
    "#         # Volver a abrir el menú de calificación para seleccionar otra calificación\n",
    "#         rating_button.click()\n",
    "#         sleep(5)\n",
    "\n",
    "#     except TimeoutException:\n",
    "#         print(f\"No se pudo encontrar la opción de {rating} estrella(s).\")\n",
    "\n",
    "# # Cerrar el navegador\n",
    "# driver.quit()\n"
   ]
  }
 ],
 "metadata": {
  "kernelspec": {
   "display_name": "Python 3",
   "language": "python",
   "name": "python3"
  },
  "language_info": {
   "codemirror_mode": {
    "name": "ipython",
    "version": 3
   },
   "file_extension": ".py",
   "mimetype": "text/x-python",
   "name": "python",
   "nbconvert_exporter": "python",
   "pygments_lexer": "ipython3",
   "version": "3.10.7"
  }
 },
 "nbformat": 4,
 "nbformat_minor": 2
}
