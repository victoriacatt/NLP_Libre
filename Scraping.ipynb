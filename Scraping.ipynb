{
 "cells": [
  {
   "cell_type": "markdown",
   "metadata": {},
   "source": [
    "#### Librerias"
   ]
  },
  {
   "cell_type": "code",
   "execution_count": 1,
   "metadata": {},
   "outputs": [],
   "source": [
    "from selenium import webdriver\n",
    "from selenium.webdriver.common.by import By\n",
    "from selenium.webdriver.common.keys import Keys\n",
    "from selenium.common.exceptions import NoSuchElementException, ElementClickInterceptedException\n",
    "from selenium.webdriver.support.ui import WebDriverWait\n",
    "from selenium.webdriver.support import expected_conditions as EC\n",
    "from selenium.common.exceptions import TimeoutException\n",
    "from time import sleep\n",
    "import csv"
   ]
  },
  {
   "cell_type": "markdown",
   "metadata": {},
   "source": [
    "#### Mostramos la cantidad de comentarios que hay en la pagina principal"
   ]
  },
  {
   "cell_type": "code",
   "execution_count": 9,
   "metadata": {},
   "outputs": [
    {
     "name": "stdout",
     "output_type": "stream",
     "text": [
      "Se encontraron 15 artículos de reseña.\n"
     ]
    }
   ],
   "source": [
    "# Inicia el WebDriver\n",
    "driver = webdriver.Chrome()\n",
    "url = 'https://www.mercadolibre.com.ar/noindex/catalog/reviews/MLA18955016?noIndex=true&access=view_all&modal=true&controlled=true'\n",
    "driver.get(url)\n",
    "sleep(5)\n",
    "\n",
    "try:\n",
    "    review_articles = driver.find_elements(By.CSS_SELECTOR, 'article[aria-roledescription=\"Review\"]') #article[aria-roledescription=\"Review\"], p[role=\"presentation\"]\n",
    "    \n",
    "    # Verificá cuántos artículos se encontraron\n",
    "    print(f\"Se encontraron {len(review_articles)} artículos de reseña.\")\n",
    "    \n",
    "except Exception as e:\n",
    "    print(f\"No se pudieron encontrar artículos de reseñas: {e}\")\n",
    "\n",
    "driver.quit()\n",
    "# input(\"Presiona Enter para salir...\")\n"
   ]
  },
  {
   "cell_type": "markdown",
   "metadata": {},
   "source": [
    "#### Mostramos la cantidad de comentarios que hay en la pagina principal haciendo Scroll"
   ]
  },
  {
   "cell_type": "code",
   "execution_count": 5,
   "metadata": {},
   "outputs": [
    {
     "name": "stdout",
     "output_type": "stream",
     "text": [
      "Total de reseñas encontradas: 15\n",
      "Total de reseñas encontradas: 30\n",
      "Total de reseñas encontradas: 45\n",
      "Total de reseñas encontradas: 60\n",
      "Total de reseñas encontradas: 75\n",
      "Total de reseñas encontradas: 90\n",
      "Total de reseñas encontradas: 105\n",
      "Total de reseñas encontradas: 120\n",
      "Total de reseñas encontradas: 135\n",
      "Total de reseñas encontradas: 150\n",
      "Total de reseñas encontradas: 165\n",
      "Total de reseñas encontradas: 180\n",
      "Total de reseñas encontradas: 195\n",
      "Total de reseñas encontradas: 210\n",
      "Total final de reseñas: 210\n"
     ]
    },
    {
     "data": {
      "text/plain": [
       "''"
      ]
     },
     "execution_count": 5,
     "metadata": {},
     "output_type": "execute_result"
    }
   ],
   "source": [
    "\n",
    "# Inicia el WebDriver\n",
    "driver = webdriver.Chrome()\n",
    "\n",
    "url = 'https://www.mercadolibre.com.ar/noindex/catalog/reviews/MLA18955016?noIndex=true&access=view_all&modal=true&controlled=true'\n",
    "driver.get(url)\n",
    "\n",
    "sleep(5) \n",
    "\n",
    "# Número total de reseñas\n",
    "total_reviews = 0\n",
    "last_height = driver.execute_script(\"return document.body.scrollHeight\")\n",
    "\n",
    "while True:\n",
    "    # Busca los comentarios\n",
    "    review_articles = driver.find_elements(By.CSS_SELECTOR, 'article[aria-roledescription=\"Review\"]')\n",
    "    total_reviews = len(review_articles)\n",
    "    print(f\"Total de reseñas encontradas: {total_reviews}\")\n",
    "\n",
    "    # Hace el scroll en la web\n",
    "    driver.execute_script(\"window.scrollTo(0, document.body.scrollHeight);\")\n",
    "\n",
    "    sleep(2)\n",
    "\n",
    "    # Verificá si llegó al final de la página\n",
    "    new_height = driver.execute_script(\"return document.body.scrollHeight\")\n",
    "    if new_height == last_height:\n",
    "        break\n",
    "    last_height = new_height\n",
    "\n",
    "print(f\"Total final de reseñas: {total_reviews}\")\n",
    "driver.quit()\n",
    "# input(\"Presiona Enter para salir...\")"
   ]
  },
  {
   "cell_type": "markdown",
   "metadata": {},
   "source": [
    "## Desarrolló\n",
    "Logramos ver que los comentarios que aparecian en la pagina principal no eran absolutamente todos, así que decidimos hacer un scraping por la categoria de comentarios, es decir, un scraping que comience por la categoria de 5 estrellas hasta la categoria de 1 una estrella, por eso comenzaremos con la interacción del botón de catacteristicas"
   ]
  },
  {
   "cell_type": "markdown",
   "metadata": {},
   "source": [
    "#### Comenzamos la interacción con el botón \"Calificaciones\""
   ]
  },
  {
   "cell_type": "code",
   "execution_count": 7,
   "metadata": {},
   "outputs": [
    {
     "name": "stdout",
     "output_type": "stream",
     "text": [
      "Botón de 'Mostrar más comentarios' fue clickeado correctamente.\n"
     ]
    },
    {
     "data": {
      "text/plain": [
       "''"
      ]
     },
     "execution_count": 7,
     "metadata": {},
     "output_type": "execute_result"
    }
   ],
   "source": [
    "driver = webdriver.Chrome()\n",
    "url = 'https://www.mercadolibre.com.ar/noindex/catalog/reviews/MLA18955016?noIndex=true&access=view_all&modal=true&controlled=true'\n",
    "driver.get(url)\n",
    "\n",
    "try:\n",
    "    mostrar_mas_button = driver.find_element(By.XPATH, '//button[@id=\":R1inbh:\"]') #//button[@data-testid='see-more']    \n",
    "    mostrar_mas_button.click()\n",
    "    print(\"Botón de 'Mostrar más comentarios' fue clickeado correctamente.\")\n",
    "    (5)\n",
    "    \n",
    "except Exception as e:\n",
    "    print(f\"No se pudo hacer clic en el botón: {e}\")\n",
    "    driver.quit()\n",
    "    exit()\n",
    "\n",
    "driver.quit()\n",
    "# input(\"Presiona Enter para salir...\")"
   ]
  },
  {
   "cell_type": "code",
   "execution_count": 8,
   "metadata": {},
   "outputs": [
    {
     "name": "stdout",
     "output_type": "stream",
     "text": [
      "Total de reseñas con 1 estrella(s): 15\n",
      "Total de reseñas con 2 estrella(s): 15\n",
      "Total de reseñas con 3 estrella(s): 15\n",
      "Total de reseñas con 4 estrella(s): 15\n",
      "Total de reseñas con 5 estrella(s): 15\n",
      "Total de reseñas en todas las categorías: 75\n"
     ]
    }
   ],
   "source": [
    "driver = webdriver.Chrome()\n",
    "url = 'https://www.mercadolibre.com.ar/noindex/catalog/reviews/MLA18955016?noIndex=true&access=view_all&modal=true&controlled=true'\n",
    "driver.get(url)\n",
    "sleep(3)\n",
    "\n",
    "ratings = ['5', '4', '3', '2', '1']           # Las categorias usan el mismo XPATH, lo unico que cambia es el numero\n",
    "estrellas = ['1', '2', '3', '4', '5']         #Para que no se confunda las categorias\n",
    "\n",
    "# Variable acumula para el total de reseñas\n",
    "total_comments = 0\n",
    "\n",
    "for rating, estrella in zip(ratings, estrellas):\n",
    "    while True: \n",
    "        rating_button = driver.find_element(By.XPATH, '//button[@id=\":R1inbh:\"]')\n",
    "        rating_button.click()\n",
    "        sleep(3)\n",
    "\n",
    "        \n",
    "        try:\n",
    "            rating_option = WebDriverWait(driver, 3).until(\n",
    "                EC.visibility_of_element_located((By.XPATH, f'//li[@data-testid=\"filterItem-rating-{rating}\"]'))\n",
    "            )\n",
    "            rating_option.click()\n",
    "            sleep(3)  \n",
    "\n",
    "\n",
    "            review_articles = driver.find_elements(By.CSS_SELECTOR, 'article[aria-roledescription=\"Review\"]')\n",
    "            total_reviews = len(review_articles)\n",
    "            print(f\"Total de reseñas con {estrella} estrella(s): {total_reviews}\")\n",
    "\n",
    "            # Suma de receñas\n",
    "            total_comments += total_reviews\n",
    "\n",
    "            break \n",
    "\n",
    "        except TimeoutException:\n",
    "            print(f\"No se pudo encontrar la opción de {rating} estrella(s).\")\n",
    "            break \n",
    "\n",
    "# Imprimir el total de reseñas\n",
    "print(f\"Total de reseñas en todas las categorías: {total_comments}\")\n",
    "\n",
    "driver.quit()"
   ]
  },
  {
   "cell_type": "code",
   "execution_count": 9,
   "metadata": {},
   "outputs": [
    {
     "name": "stdout",
     "output_type": "stream",
     "text": [
      "Total de reseñas con 1 estrella(s): 125\n",
      "Total de reseñas con 2 estrella(s): 66\n",
      "Total de reseñas con 3 estrella(s): 176\n",
      "Total de reseñas con 4 estrella(s): 210\n",
      "Total de reseñas con 5 estrella(s): 210\n",
      "Total de reseñas en todas las categorías: 787\n"
     ]
    }
   ],
   "source": [
    "# Inicializar el WebDriver\n",
    "driver = webdriver.Chrome()\n",
    "\n",
    "# Navegar a la página de producto en Mercado Libre\n",
    "url = 'https://www.mercadolibre.com.ar/noindex/catalog/reviews/MLA18955016?noIndex=true&access=view_all&modal=true&controlled=true'\n",
    "driver.get(url)\n",
    "sleep(5)\n",
    "\n",
    "\n",
    "ratings = ['5', '4', '3', '2', '1']     # Las categorias usan el mismo XPATH, lo unico que cambia es el numero\n",
    "estrellas = ['1', '2', '3', '4', '5']   #Para que no se confunda las categorias\n",
    "total_comments = 0\n",
    "\n",
    "# Recorrer cada calificación\n",
    "for rating, estrella in zip(ratings, estrellas):\n",
    "    while True:\n",
    "        rating_button = driver.find_element(By.XPATH, '//button[@id=\":R1inbh:\"]')\n",
    "        rating_button.click()\n",
    "        sleep(5)\n",
    "\n",
    "        # Elije la clasificación, de 1 a 5 estrellas\n",
    "        try:\n",
    "            rating_option = WebDriverWait(driver, 10).until(\n",
    "                EC.visibility_of_element_located((By.XPATH, f'//li[@data-testid=\"filterItem-rating-{rating}\"]'))\n",
    "            )\n",
    "            rating_option.click()\n",
    "            sleep(5) \n",
    "\n",
    "            # Bucle para hacer scroll hasta el final y contar los comentarios\n",
    "            total_reviews = 0\n",
    "            last_height = driver.execute_script(\"return document.body.scrollHeight\")\n",
    "\n",
    "            while True:\n",
    "                # Hace el scroll\n",
    "                driver.execute_script(\"window.scrollTo(0, document.body.scrollHeight);\")\n",
    "                sleep(2)\n",
    "\n",
    "                # Verifica si llega al final de la página\n",
    "                new_height = driver.execute_script(\"return document.body.scrollHeight\")\n",
    "                if new_height == last_height:\n",
    "                    break\n",
    "                last_height = new_height\n",
    "\n",
    "            # Cuenta comentarios al final del scroll\n",
    "            review_articles = driver.find_elements(By.CSS_SELECTOR, 'article[aria-roledescription=\"Review\"]')\n",
    "            total_reviews = len(review_articles)\n",
    "            print(f\"Total de reseñas con {estrella} estrella(s): {total_reviews}\")\n",
    "\n",
    "            # Suma de receñas\n",
    "            total_comments += total_reviews\n",
    "\n",
    "            # Volver al inicio\n",
    "            driver.execute_script(\"window.scrollTo(0, 0);\")\n",
    "            sleep(5) \n",
    "\n",
    "            break \n",
    "\n",
    "        except TimeoutException:\n",
    "            print(f\"No se pudo encontrar la opción de {estrella} estrella(s).\")\n",
    "            break  \n",
    "\n",
    "# Imprimir el total de reseñas\n",
    "print(f\"Total de reseñas en todas las categorías: {total_comments}\")\n",
    "driver.quit()"
   ]
  },
  {
   "cell_type": "code",
   "execution_count": null,
   "metadata": {},
   "outputs": [],
   "source": []
  }
 ],
 "metadata": {
  "kernelspec": {
   "display_name": "Python 3",
   "language": "python",
   "name": "python3"
  },
  "language_info": {
   "codemirror_mode": {
    "name": "ipython",
    "version": 3
   },
   "file_extension": ".py",
   "mimetype": "text/x-python",
   "name": "python",
   "nbconvert_exporter": "python",
   "pygments_lexer": "ipython3",
   "version": "3.10.7"
  }
 },
 "nbformat": 4,
 "nbformat_minor": 2
}
